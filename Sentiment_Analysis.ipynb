{
  "nbformat": 4,
  "nbformat_minor": 0,
  "metadata": {
    "colab": {
      "provenance": []
    },
    "kernelspec": {
      "name": "python3",
      "display_name": "Python 3"
    },
    "language_info": {
      "name": "python"
    }
  },
  "cells": [
    {
      "cell_type": "markdown",
      "source": [
        "Required Libraries"
      ],
      "metadata": {
        "id": "9lE8Quu20xtY"
      }
    },
    {
      "cell_type": "code",
      "source": [
        "import pandas as pd\n",
        "import re\n",
        "import nltk\n",
        "import numpy as np\n",
        "import matplotlib.pyplot as plt\n",
        "import seaborn as sns\n",
        "from nltk.corpus import stopwords\n",
        "from nltk.stem import PorterStemmer\n",
        "from sklearn.feature_extraction.text import TfidfVectorizer\n",
        "from sklearn.model_selection import train_test_split, GridSearchCV\n",
        "from sklearn.linear_model import LogisticRegression\n",
        "from sklearn.svm import SVC\n",
        "from sklearn.ensemble import RandomForestClassifier, GradientBoostingClassifier, ExtraTreesClassifier\n",
        "from sklearn.naive_bayes import MultinomialNB\n",
        "from sklearn.metrics import accuracy_score, classification_report, confusion_matrix\n",
        "from imblearn.over_sampling import SMOTE"
      ],
      "metadata": {
        "id": "so6f7igZ07CX"
      },
      "execution_count": 1,
      "outputs": []
    },
    {
      "cell_type": "markdown",
      "source": [
        "Download NLTK Stopwords"
      ],
      "metadata": {
        "id": "-6FRiQvE1B_L"
      }
    },
    {
      "cell_type": "code",
      "source": [
        "nltk.download('stopwords')"
      ],
      "metadata": {
        "colab": {
          "base_uri": "https://localhost:8080/"
        },
        "id": "yR_Y1_nb1Ev9",
        "outputId": "ecb0ca14-df34-484e-82b3-4d02899b4ced"
      },
      "execution_count": 2,
      "outputs": [
        {
          "output_type": "stream",
          "name": "stderr",
          "text": [
            "[nltk_data] Downloading package stopwords to /root/nltk_data...\n",
            "[nltk_data]   Unzipping corpora/stopwords.zip.\n"
          ]
        },
        {
          "output_type": "execute_result",
          "data": {
            "text/plain": [
              "True"
            ]
          },
          "metadata": {},
          "execution_count": 2
        }
      ]
    },
    {
      "cell_type": "markdown",
      "source": [
        "Load Dataset"
      ],
      "metadata": {
        "id": "rOpoNCDq1His"
      }
    },
    {
      "cell_type": "code",
      "source": [
        "file_path = \"/content/Restaurant_Reviews 1.tsv\"\n",
        "df = pd.read_csv(file_path, sep=\"\\t\")"
      ],
      "metadata": {
        "id": "IDBEWjQb1KYf"
      },
      "execution_count": 3,
      "outputs": []
    },
    {
      "cell_type": "markdown",
      "source": [
        "Initialize Porter Stemmer"
      ],
      "metadata": {
        "id": "QpzzP5K_1NgD"
      }
    },
    {
      "cell_type": "code",
      "source": [
        "ps = PorterStemmer()\n",
        "stop_words = set(stopwords.words('english'))"
      ],
      "metadata": {
        "id": "G1sFwBJa1QBm"
      },
      "execution_count": 4,
      "outputs": []
    },
    {
      "cell_type": "markdown",
      "source": [
        "Apply Preprocessing"
      ],
      "metadata": {
        "id": "sNUiIgEh1Sut"
      }
    },
    {
      "cell_type": "code",
      "source": [
        "def preprocess_text(text):\n",
        "    text = re.sub(r'[^a-zA-Z]', ' ', text)\n",
        "    text = text.lower().strip()\n",
        "    words = text.split()\n",
        "    words = [word for word in words if word not in stop_words]\n",
        "    words = [ps.stem(word) for word in words]\n",
        "    return ' '.join(words)\n",
        "\n",
        "df[\"Cleaned_Review\"] = df[\"Review\"].apply(preprocess_text)"
      ],
      "metadata": {
        "id": "VV8qK1HR1YjR"
      },
      "execution_count": 5,
      "outputs": []
    },
    {
      "cell_type": "markdown",
      "source": [
        "Feature Extraction using TF-IDF"
      ],
      "metadata": {
        "id": "cKsDSydq1nAP"
      }
    },
    {
      "cell_type": "code",
      "source": [
        "tfidf = TfidfVectorizer(max_features=3000)\n",
        "X = tfidf.fit_transform(df[\"Cleaned_Review\"]).toarray()\n",
        "y = df[\"Liked\"]"
      ],
      "metadata": {
        "id": "JsKuJe4Y1ntJ"
      },
      "execution_count": 6,
      "outputs": []
    },
    {
      "cell_type": "markdown",
      "source": [
        "Handle Class Imbalance"
      ],
      "metadata": {
        "id": "2uK_vG_Z1sAt"
      }
    },
    {
      "cell_type": "code",
      "source": [
        "if len(set(y)) > 1 and np.bincount(y)[0] != np.bincount(y)[1]:\n",
        "    smote = SMOTE(random_state=42)\n",
        "    X, y = smote.fit_resample(X, y)"
      ],
      "metadata": {
        "id": "JFlwL-xa1uo3"
      },
      "execution_count": 7,
      "outputs": []
    },
    {
      "cell_type": "markdown",
      "source": [
        "Split Data into Training and Testing"
      ],
      "metadata": {
        "id": "N1rg4jju1w2r"
      }
    },
    {
      "cell_type": "code",
      "source": [
        "X_train, X_test, y_train, y_test = train_test_split(X, y, test_size=0.2, random_state=42, stratify=y)"
      ],
      "metadata": {
        "id": "V4MkNBhe1zIN"
      },
      "execution_count": 8,
      "outputs": []
    },
    {
      "cell_type": "markdown",
      "source": [
        "Define Models with Optimized Hyperparameter Tuning"
      ],
      "metadata": {
        "id": "0PxhfwAH12Qh"
      }
    },
    {
      "cell_type": "code",
      "source": [
        "models = {\n",
        "    \"Logistic Regression\": (LogisticRegression(), {\"C\": [0.01, 0.1, 1, 10]}),\n",
        "    \"Support Vector Machine\": (SVC(), {\"C\": [0.1, 1, 10], \"kernel\": ['linear', 'rbf']}),\n",
        "    \"Random Forest\": (RandomForestClassifier(), {\"n_estimators\": [50, 100, 200], \"max_depth\": [None, 10, 20]}),\n",
        "    \"Gradient Boosting\": (GradientBoostingClassifier(), {\"n_estimators\": [50, 100, 200], \"learning_rate\": [0.01, 0.1, 0.2]}),\n",
        "    \"Multinomial Naive Bayes\": (MultinomialNB(), {\"alpha\": [0.1, 0.5, 1, 2]}),\n",
        "    \"Extra Trees Classifier\": (ExtraTreesClassifier(), {\n",
        "        \"n_estimators\": [50, 100, 200],\n",
        "        \"max_depth\": [None, 10, 20],\n",
        "        \"min_samples_split\": [2, 5, 10]\n",
        "    })\n",
        "}\n",
        "\n",
        "best_model = None\n",
        "best_accuracy = 0"
      ],
      "metadata": {
        "id": "VaD8UQY-14_S"
      },
      "execution_count": 9,
      "outputs": []
    },
    {
      "cell_type": "markdown",
      "source": [
        "Model Training and Selection"
      ],
      "metadata": {
        "id": "KTio8V3X18fb"
      }
    },
    {
      "cell_type": "code",
      "source": [
        "for name, (model, params) in models.items():\n",
        "    try:\n",
        "        grid_search = GridSearchCV(model, params, cv=5, scoring='accuracy', n_jobs=-1, error_score='raise')\n",
        "        grid_search.fit(X_train, y_train)\n",
        "        y_pred = grid_search.best_estimator_.predict(X_test)\n",
        "        accuracy = accuracy_score(y_test, y_pred)\n",
        "        print(f\"{name} Accuracy: {accuracy:.4f}\\n\")\n",
        "\n",
        "        if accuracy > best_accuracy:\n",
        "            best_accuracy = accuracy\n",
        "            best_model = grid_search.best_estimator_\n",
        "    except Exception as e:\n",
        "        print(f\"Error occurred in {name}: {e}\")"
      ],
      "metadata": {
        "colab": {
          "base_uri": "https://localhost:8080/"
        },
        "id": "W5ya5BaN2L93",
        "outputId": "55a3855e-fbd3-4f7d-b169-5784de270c5f"
      },
      "execution_count": 11,
      "outputs": [
        {
          "output_type": "stream",
          "name": "stdout",
          "text": [
            "Logistic Regression Accuracy: 0.7650\n",
            "\n",
            "Support Vector Machine Accuracy: 0.7900\n",
            "\n",
            "Random Forest Accuracy: 0.7700\n",
            "\n",
            "Gradient Boosting Accuracy: 0.7800\n",
            "\n",
            "Multinomial Naive Bayes Accuracy: 0.7550\n",
            "\n",
            "Extra Trees Classifier Accuracy: 0.8100\n",
            "\n"
          ]
        }
      ]
    },
    {
      "cell_type": "markdown",
      "source": [
        "Display Best Model"
      ],
      "metadata": {
        "id": "kCKc-j-P2Pk2"
      }
    },
    {
      "cell_type": "code",
      "source": [
        "print(f\"\\nBest Performing Model: {best_model.__class__.__name__} with Accuracy: {best_accuracy:.4f}\")"
      ],
      "metadata": {
        "colab": {
          "base_uri": "https://localhost:8080/"
        },
        "id": "7NmtFnCW2SZi",
        "outputId": "79be440b-dc3a-4a93-caad-a4f212bb8429"
      },
      "execution_count": 12,
      "outputs": [
        {
          "output_type": "stream",
          "name": "stdout",
          "text": [
            "\n",
            "Best Performing Model: ExtraTreesClassifier with Accuracy: 0.8100\n"
          ]
        }
      ]
    },
    {
      "cell_type": "markdown",
      "source": [
        "Classification Report"
      ],
      "metadata": {
        "id": "Pnj1xO5l2U-B"
      }
    },
    {
      "cell_type": "code",
      "source": [
        "y_pred_best = best_model.predict(X_test)\n",
        "print(\"\\nClassification Report:\\n\", classification_report(y_test, y_pred_best))"
      ],
      "metadata": {
        "colab": {
          "base_uri": "https://localhost:8080/"
        },
        "id": "rC69_aUl2a6P",
        "outputId": "9f4f1a0d-a68d-4f3c-d602-ce7aa7bfcc4e"
      },
      "execution_count": 13,
      "outputs": [
        {
          "output_type": "stream",
          "name": "stdout",
          "text": [
            "\n",
            "Classification Report:\n",
            "               precision    recall  f1-score   support\n",
            "\n",
            "           0       0.79      0.84      0.82       100\n",
            "           1       0.83      0.78      0.80       100\n",
            "\n",
            "    accuracy                           0.81       200\n",
            "   macro avg       0.81      0.81      0.81       200\n",
            "weighted avg       0.81      0.81      0.81       200\n",
            "\n"
          ]
        }
      ]
    },
    {
      "cell_type": "markdown",
      "source": [
        "Plot Confusion Matrix"
      ],
      "metadata": {
        "id": "uGd5Z2UM2dbH"
      }
    },
    {
      "cell_type": "code",
      "source": [
        "plt.figure(figsize=(6,4))\n",
        "sns.heatmap(confusion_matrix(y_test, y_pred_best), annot=True, fmt=\"d\", cmap=\"Blues\")\n",
        "plt.xlabel(\"Predicted\")\n",
        "plt.ylabel(\"Actual\")\n",
        "plt.title(\"Confusion Matrix\")\n",
        "plt.show()"
      ],
      "metadata": {
        "colab": {
          "base_uri": "https://localhost:8080/",
          "height": 410
        },
        "id": "wOw2zyL12gMU",
        "outputId": "67fb5c43-cab1-41d6-fc2d-8c39f2e2601b"
      },
      "execution_count": 14,
      "outputs": [
        {
          "output_type": "display_data",
          "data": {
            "text/plain": [
              "<Figure size 600x400 with 2 Axes>"
            ],
            "image/png": "[encoded data removed]"
          },
          "metadata": {}
        }
      ]
    },
    {
      "cell_type": "markdown",
      "source": [
        "Display TF-IDF Features"
      ],
      "metadata": {
        "id": "GIfvdbZ72ogJ"
      }
    },
    {
      "cell_type": "code",
      "source": [
        "print(\"\\nTop 10 TF-IDF Features:\")\n",
        "feature_array = np.array(tfidf.get_feature_names_out())\n",
        "tfidf_sorting = np.argsort(tfidf.idf_)[::-1]\n",
        "top_n = feature_array[tfidf_sorting][:10]\n",
        "print(top_n)"
      ],
      "metadata": {
        "colab": {
          "base_uri": "https://localhost:8080/"
        },
        "id": "pFUF9B2M2qSC",
        "outputId": "f2730b50-a7e9-47fe-c423-b320ed2da07c"
      },
      "execution_count": 15,
      "outputs": [
        {
          "output_type": "stream",
          "name": "stdout",
          "text": [
            "\n",
            "Top 10 TF-IDF Features:\n",
            "['opinion' 'carpaccio' 'carb' 'maintain' 'magic' 'magazin' 'madison'\n",
            " 'madhous' 'macaron' 'mac']\n"
          ]
        }
      ]
    }
  ]
}